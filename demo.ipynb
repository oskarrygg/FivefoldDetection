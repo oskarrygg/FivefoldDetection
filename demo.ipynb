{
 "cells": [
  {
   "cell_type": "code",
   "execution_count": 30,
   "metadata": {},
   "outputs": [],
   "source": [
    "%matplotlib qt\n",
    "\n",
    "import numpy as np\n",
    "import pyxem as pxm\n",
    "import hyperspy.api as hs\n",
    "import fivefold_detection as ffd\n"
   ]
  },
  {
   "attachments": {},
   "cell_type": "markdown",
   "metadata": {},
   "source": [
    "### Importing and preprocessing data"
   ]
  },
  {
   "cell_type": "code",
   "execution_count": 31,
   "metadata": {},
   "outputs": [],
   "source": [
    "path = 'C:/Users/oskarry/FivefoldDetection/A211d_ZA112_SPED_1deg_a5_spot05_step3_CL12.hspy'\n",
    "path = path.replace('/', '\\\\')\n",
    "sig = hs.load(path)"
   ]
  },
  {
   "cell_type": "code",
   "execution_count": 32,
   "metadata": {},
   "outputs": [],
   "source": [
    "#cropping the data so things are a bit snappier\n",
    "s = sig.inav[100:150, 100:150]\n",
    "s.plot()"
   ]
  },
  {
   "attachments": {},
   "cell_type": "markdown",
   "metadata": {},
   "source": [
    "#### Preprocessing\n",
    "Tha data must be thresholded such that the background has value zero. Additionally, we center the 000-spots to bring them close to the image rotation axes."
   ]
  },
  {
   "cell_type": "code",
   "execution_count": 33,
   "metadata": {},
   "outputs": [],
   "source": [
    "from skimage import filters\n",
    "threshold = 0.0005\n",
    "\n",
    "def thresholding(image, threshold = threshold):\n",
    "    copied = image.copy()\n",
    "    copied[copied <= threshold] = 0\n",
    "    return copied"
   ]
  },
  {
   "cell_type": "code",
   "execution_count": 34,
   "metadata": {},
   "outputs": [
    {
     "name": "stdout",
     "output_type": "stream",
     "text": [
      "[########################################] | 100% Completed | 12.9s\n"
     ]
    },
    {
     "data": {
      "application/vnd.jupyter.widget-view+json": {
       "model_id": "5d12a4c161024607b3a527ed043579d0",
       "version_major": 2,
       "version_minor": 0
      },
      "text/plain": [
       "  0%|          | 0/2500 [00:00<?, ?it/s]"
      ]
     },
     "metadata": {},
     "output_type": "display_data"
    }
   ],
   "source": [
    "s = s.subtract_diffraction_background(\n",
    "    method = 'difference of gaussians',\n",
    "    min_sigma = 4,\n",
    "    max_sigma = 10\n",
    ")\n",
    "s = s.map(filters.gaussian, sigma = 0.5, inplace = False)\n",
    "\n",
    "s.data -= s.data.min()\n",
    "s.data *= 1/s.data.max()\n",
    "s = pxm.signals.ElectronDiffraction2D(s)\n",
    "\n",
    "s.center_direct_beam(\n",
    "    method = 'cross_correlate',\n",
    "    radius_start = 2,\n",
    "    radius_finish = 5,\n",
    "    half_square_width = 10\n",
    ")\n",
    "\n",
    "s = s.map(thresholding, threshold = threshold, inplace = False)"
   ]
  },
  {
   "attachments": {},
   "cell_type": "markdown",
   "metadata": {},
   "source": [
    "To prepare central disc subtraction, we fit a rectangular region around the 000-spot. The code can currently only handle regions containing *only* the central spot."
   ]
  },
  {
   "cell_type": "code",
   "execution_count": 35,
   "metadata": {},
   "outputs": [
    {
     "data": {
      "text/plain": [
       "<hyperspy.drawing._widgets.rectangles.RectangleWidget at 0x166e39e9040>"
      ]
     },
     "execution_count": 35,
     "metadata": {},
     "output_type": "execute_result"
    }
   ],
   "source": [
    "s.plot(cmap = 'plasma')\n",
    "rec = hs.roi.RectangularROI(left = 108, right = 148, top = 108, bottom = 148)\n",
    "rec.add_widget(s, axes = s.axes_manager.signal_axes)"
   ]
  },
  {
   "attachments": {},
   "cell_type": "markdown",
   "metadata": {},
   "source": [
    "### Contour finding, creating binary masks "
   ]
  },
  {
   "cell_type": "code",
   "execution_count": 36,
   "metadata": {},
   "outputs": [],
   "source": [
    "full_masks, central_discs, subtracted_masks = ffd.create_mask_library(\n",
    "    signal = s, cropped_central_region = rec, threshold = 0.02\n",
    ")"
   ]
  },
  {
   "attachments": {},
   "cell_type": "markdown",
   "metadata": {},
   "source": [
    "We can inspect individual masks to verify 000-disc subtraction, diffraction spot identification etc."
   ]
  },
  {
   "cell_type": "code",
   "execution_count": 37,
   "metadata": {},
   "outputs": [],
   "source": [
    "ffd.inspect_single_mask(s.data, full_masks, central_discs, subtracted_masks, [10,10])"
   ]
  },
  {
   "attachments": {},
   "cell_type": "markdown",
   "metadata": {},
   "source": [
    "### Rotating masks, searching for overlapping discs"
   ]
  },
  {
   "cell_type": "code",
   "execution_count": 38,
   "metadata": {},
   "outputs": [],
   "source": [
    "rot_symm_order = 5 \n",
    "summed, rotlib = ffd.create_rotation_library(subtracted_masks, rot_symm_order)"
   ]
  },
  {
   "attachments": {},
   "cell_type": "markdown",
   "metadata": {},
   "source": [
    "The *summed* array contains the sum of every mask with itself rotated by $360/n$ degrees. Now we searcg for $n$-fold symmetries by simply checking if the summed arrays have any 2-valued pixels (i.e. overlapping discs). Coordinates corresponding to n-fold symmetric patterns are stored in the *tuple_storage* list. "
   ]
  },
  {
   "cell_type": "code",
   "execution_count": 39,
   "metadata": {},
   "outputs": [
    {
     "name": "stdout",
     "output_type": "stream",
     "text": [
      "Possible 5-fold symmetry found in pattern [0,32]. Image added to reference library for inspection.\n",
      "Possible 5-fold symmetry found in pattern [0,33]. Image added to reference library for inspection.\n",
      "Possible 5-fold symmetry found in pattern [0,34]. Image added to reference library for inspection.\n",
      "Possible 5-fold symmetry found in pattern [0,35]. Image added to reference library for inspection.\n",
      "Possible 5-fold symmetry found in pattern [0,36]. Image added to reference library for inspection.\n",
      "Possible 5-fold symmetry found in pattern [0,37]. Image added to reference library for inspection.\n",
      "Possible 5-fold symmetry found in pattern [0,38]. Image added to reference library for inspection.\n",
      "Possible 5-fold symmetry found in pattern [0,39]. Image added to reference library for inspection.\n",
      "Possible 5-fold symmetry found in pattern [0,40]. Image added to reference library for inspection.\n",
      "Possible 5-fold symmetry found in pattern [0,41]. Image added to reference library for inspection.\n",
      "Possible 5-fold symmetry found in pattern [0,42]. Image added to reference library for inspection.\n",
      "Possible 5-fold symmetry found in pattern [0,43]. Image added to reference library for inspection.\n",
      "Possible 5-fold symmetry found in pattern [0,44]. Image added to reference library for inspection.\n",
      "Possible 5-fold symmetry found in pattern [0,45]. Image added to reference library for inspection.\n",
      "Possible 5-fold symmetry found in pattern [0,46]. Image added to reference library for inspection.\n",
      "Possible 5-fold symmetry found in pattern [0,47]. Image added to reference library for inspection.\n",
      "Possible 5-fold symmetry found in pattern [0,48]. Image added to reference library for inspection.\n",
      "Possible 5-fold symmetry found in pattern [0,49]. Image added to reference library for inspection.\n",
      "Possible 5-fold symmetry found in pattern [1,33]. Image added to reference library for inspection.\n",
      "Possible 5-fold symmetry found in pattern [1,34]. Image added to reference library for inspection.\n",
      "Possible 5-fold symmetry found in pattern [1,35]. Image added to reference library for inspection.\n",
      "Possible 5-fold symmetry found in pattern [1,36]. Image added to reference library for inspection.\n",
      "Possible 5-fold symmetry found in pattern [1,37]. Image added to reference library for inspection.\n",
      "Possible 5-fold symmetry found in pattern [1,38]. Image added to reference library for inspection.\n",
      "Possible 5-fold symmetry found in pattern [1,39]. Image added to reference library for inspection.\n",
      "Possible 5-fold symmetry found in pattern [1,40]. Image added to reference library for inspection.\n",
      "Possible 5-fold symmetry found in pattern [1,41]. Image added to reference library for inspection.\n",
      "Possible 5-fold symmetry found in pattern [1,42]. Image added to reference library for inspection.\n",
      "Possible 5-fold symmetry found in pattern [1,43]. Image added to reference library for inspection.\n",
      "Possible 5-fold symmetry found in pattern [1,44]. Image added to reference library for inspection.\n",
      "Possible 5-fold symmetry found in pattern [1,45]. Image added to reference library for inspection.\n",
      "Possible 5-fold symmetry found in pattern [1,46]. Image added to reference library for inspection.\n",
      "Possible 5-fold symmetry found in pattern [1,47]. Image added to reference library for inspection.\n",
      "Possible 5-fold symmetry found in pattern [1,48]. Image added to reference library for inspection.\n",
      "Possible 5-fold symmetry found in pattern [1,49]. Image added to reference library for inspection.\n",
      "Possible 5-fold symmetry found in pattern [2,33]. Image added to reference library for inspection.\n",
      "Possible 5-fold symmetry found in pattern [2,34]. Image added to reference library for inspection.\n",
      "Possible 5-fold symmetry found in pattern [2,35]. Image added to reference library for inspection.\n",
      "Possible 5-fold symmetry found in pattern [2,36]. Image added to reference library for inspection.\n",
      "Possible 5-fold symmetry found in pattern [2,37]. Image added to reference library for inspection.\n",
      "Possible 5-fold symmetry found in pattern [2,38]. Image added to reference library for inspection.\n",
      "Possible 5-fold symmetry found in pattern [2,39]. Image added to reference library for inspection.\n",
      "Possible 5-fold symmetry found in pattern [2,40]. Image added to reference library for inspection.\n",
      "Possible 5-fold symmetry found in pattern [2,41]. Image added to reference library for inspection.\n",
      "Possible 5-fold symmetry found in pattern [2,42]. Image added to reference library for inspection.\n",
      "Possible 5-fold symmetry found in pattern [2,43]. Image added to reference library for inspection.\n",
      "Possible 5-fold symmetry found in pattern [2,44]. Image added to reference library for inspection.\n",
      "Possible 5-fold symmetry found in pattern [2,45]. Image added to reference library for inspection.\n",
      "Possible 5-fold symmetry found in pattern [2,46]. Image added to reference library for inspection.\n",
      "Possible 5-fold symmetry found in pattern [2,47]. Image added to reference library for inspection.\n",
      "Possible 5-fold symmetry found in pattern [2,48]. Image added to reference library for inspection.\n",
      "Possible 5-fold symmetry found in pattern [2,49]. Image added to reference library for inspection.\n",
      "Possible 5-fold symmetry found in pattern [3,37]. Image added to reference library for inspection.\n",
      "Possible 5-fold symmetry found in pattern [3,38]. Image added to reference library for inspection.\n",
      "Possible 5-fold symmetry found in pattern [3,39]. Image added to reference library for inspection.\n",
      "Possible 5-fold symmetry found in pattern [3,40]. Image added to reference library for inspection.\n",
      "Possible 5-fold symmetry found in pattern [3,41]. Image added to reference library for inspection.\n",
      "Possible 5-fold symmetry found in pattern [3,42]. Image added to reference library for inspection.\n",
      "Possible 5-fold symmetry found in pattern [3,43]. Image added to reference library for inspection.\n",
      "Possible 5-fold symmetry found in pattern [3,44]. Image added to reference library for inspection.\n",
      "Possible 5-fold symmetry found in pattern [3,45]. Image added to reference library for inspection.\n",
      "Possible 5-fold symmetry found in pattern [3,46]. Image added to reference library for inspection.\n",
      "Possible 5-fold symmetry found in pattern [3,47]. Image added to reference library for inspection.\n",
      "Possible 5-fold symmetry found in pattern [3,48]. Image added to reference library for inspection.\n",
      "Possible 5-fold symmetry found in pattern [3,49]. Image added to reference library for inspection.\n",
      "Possible 5-fold symmetry found in pattern [4,35]. Image added to reference library for inspection.\n",
      "Possible 5-fold symmetry found in pattern [4,37]. Image added to reference library for inspection.\n",
      "Possible 5-fold symmetry found in pattern [4,39]. Image added to reference library for inspection.\n",
      "Possible 5-fold symmetry found in pattern [4,40]. Image added to reference library for inspection.\n",
      "Possible 5-fold symmetry found in pattern [4,41]. Image added to reference library for inspection.\n",
      "Possible 5-fold symmetry found in pattern [4,42]. Image added to reference library for inspection.\n",
      "Possible 5-fold symmetry found in pattern [4,43]. Image added to reference library for inspection.\n",
      "Possible 5-fold symmetry found in pattern [4,44]. Image added to reference library for inspection.\n",
      "Possible 5-fold symmetry found in pattern [4,45]. Image added to reference library for inspection.\n",
      "Possible 5-fold symmetry found in pattern [4,46]. Image added to reference library for inspection.\n",
      "Possible 5-fold symmetry found in pattern [4,47]. Image added to reference library for inspection.\n",
      "Possible 5-fold symmetry found in pattern [4,48]. Image added to reference library for inspection.\n",
      "Possible 5-fold symmetry found in pattern [4,49]. Image added to reference library for inspection.\n",
      "Possible 5-fold symmetry found in pattern [5,37]. Image added to reference library for inspection.\n",
      "Possible 5-fold symmetry found in pattern [5,38]. Image added to reference library for inspection.\n",
      "Possible 5-fold symmetry found in pattern [5,39]. Image added to reference library for inspection.\n",
      "Possible 5-fold symmetry found in pattern [5,40]. Image added to reference library for inspection.\n",
      "Possible 5-fold symmetry found in pattern [5,41]. Image added to reference library for inspection.\n",
      "Possible 5-fold symmetry found in pattern [5,42]. Image added to reference library for inspection.\n",
      "Possible 5-fold symmetry found in pattern [5,43]. Image added to reference library for inspection.\n",
      "Possible 5-fold symmetry found in pattern [5,44]. Image added to reference library for inspection.\n",
      "Possible 5-fold symmetry found in pattern [5,45]. Image added to reference library for inspection.\n",
      "Possible 5-fold symmetry found in pattern [5,46]. Image added to reference library for inspection.\n",
      "Possible 5-fold symmetry found in pattern [5,47]. Image added to reference library for inspection.\n",
      "Possible 5-fold symmetry found in pattern [5,48]. Image added to reference library for inspection.\n",
      "Possible 5-fold symmetry found in pattern [5,49]. Image added to reference library for inspection.\n",
      "Possible 5-fold symmetry found in pattern [6,36]. Image added to reference library for inspection.\n",
      "Possible 5-fold symmetry found in pattern [6,37]. Image added to reference library for inspection.\n",
      "Possible 5-fold symmetry found in pattern [6,38]. Image added to reference library for inspection.\n",
      "Possible 5-fold symmetry found in pattern [6,39]. Image added to reference library for inspection.\n",
      "Possible 5-fold symmetry found in pattern [6,40]. Image added to reference library for inspection.\n",
      "Possible 5-fold symmetry found in pattern [6,41]. Image added to reference library for inspection.\n",
      "Possible 5-fold symmetry found in pattern [6,42]. Image added to reference library for inspection.\n",
      "Possible 5-fold symmetry found in pattern [6,43]. Image added to reference library for inspection.\n",
      "Possible 5-fold symmetry found in pattern [6,44]. Image added to reference library for inspection.\n",
      "Possible 5-fold symmetry found in pattern [6,45]. Image added to reference library for inspection.\n",
      "Possible 5-fold symmetry found in pattern [6,46]. Image added to reference library for inspection.\n",
      "Possible 5-fold symmetry found in pattern [6,47]. Image added to reference library for inspection.\n",
      "Possible 5-fold symmetry found in pattern [6,48]. Image added to reference library for inspection.\n",
      "Possible 5-fold symmetry found in pattern [6,49]. Image added to reference library for inspection.\n",
      "Possible 5-fold symmetry found in pattern [7,35]. Image added to reference library for inspection.\n",
      "Possible 5-fold symmetry found in pattern [7,36]. Image added to reference library for inspection.\n",
      "Possible 5-fold symmetry found in pattern [7,37]. Image added to reference library for inspection.\n",
      "Possible 5-fold symmetry found in pattern [7,38]. Image added to reference library for inspection.\n",
      "Possible 5-fold symmetry found in pattern [7,39]. Image added to reference library for inspection.\n",
      "Possible 5-fold symmetry found in pattern [7,40]. Image added to reference library for inspection.\n",
      "Possible 5-fold symmetry found in pattern [7,41]. Image added to reference library for inspection.\n",
      "Possible 5-fold symmetry found in pattern [7,42]. Image added to reference library for inspection.\n",
      "Possible 5-fold symmetry found in pattern [7,43]. Image added to reference library for inspection.\n",
      "Possible 5-fold symmetry found in pattern [7,44]. Image added to reference library for inspection.\n",
      "Possible 5-fold symmetry found in pattern [7,45]. Image added to reference library for inspection.\n",
      "Possible 5-fold symmetry found in pattern [7,46]. Image added to reference library for inspection.\n",
      "Possible 5-fold symmetry found in pattern [7,47]. Image added to reference library for inspection.\n",
      "Possible 5-fold symmetry found in pattern [7,48]. Image added to reference library for inspection.\n",
      "Possible 5-fold symmetry found in pattern [8,36]. Image added to reference library for inspection.\n",
      "Possible 5-fold symmetry found in pattern [8,37]. Image added to reference library for inspection.\n",
      "Possible 5-fold symmetry found in pattern [8,38]. Image added to reference library for inspection.\n",
      "Possible 5-fold symmetry found in pattern [8,39]. Image added to reference library for inspection.\n",
      "Possible 5-fold symmetry found in pattern [8,40]. Image added to reference library for inspection.\n",
      "Possible 5-fold symmetry found in pattern [8,41]. Image added to reference library for inspection.\n",
      "Possible 5-fold symmetry found in pattern [8,42]. Image added to reference library for inspection.\n",
      "Possible 5-fold symmetry found in pattern [8,43]. Image added to reference library for inspection.\n",
      "Possible 5-fold symmetry found in pattern [8,44]. Image added to reference library for inspection.\n",
      "Possible 5-fold symmetry found in pattern [8,45]. Image added to reference library for inspection.\n",
      "Possible 5-fold symmetry found in pattern [8,46]. Image added to reference library for inspection.\n",
      "Possible 5-fold symmetry found in pattern [8,47]. Image added to reference library for inspection.\n",
      "Possible 5-fold symmetry found in pattern [8,49]. Image added to reference library for inspection.\n",
      "Possible 5-fold symmetry found in pattern [9,33]. Image added to reference library for inspection.\n",
      "Possible 5-fold symmetry found in pattern [9,34]. Image added to reference library for inspection.\n",
      "Possible 5-fold symmetry found in pattern [9,35]. Image added to reference library for inspection.\n",
      "Possible 5-fold symmetry found in pattern [9,36]. Image added to reference library for inspection.\n",
      "Possible 5-fold symmetry found in pattern [9,37]. Image added to reference library for inspection.\n",
      "Possible 5-fold symmetry found in pattern [9,38]. Image added to reference library for inspection.\n",
      "Possible 5-fold symmetry found in pattern [9,39]. Image added to reference library for inspection.\n",
      "Possible 5-fold symmetry found in pattern [9,40]. Image added to reference library for inspection.\n",
      "Possible 5-fold symmetry found in pattern [9,41]. Image added to reference library for inspection.\n",
      "Possible 5-fold symmetry found in pattern [9,42]. Image added to reference library for inspection.\n",
      "Possible 5-fold symmetry found in pattern [9,43]. Image added to reference library for inspection.\n",
      "Possible 5-fold symmetry found in pattern [9,44]. Image added to reference library for inspection.\n",
      "Possible 5-fold symmetry found in pattern [9,45]. Image added to reference library for inspection.\n",
      "Possible 5-fold symmetry found in pattern [9,46]. Image added to reference library for inspection.\n",
      "Possible 5-fold symmetry found in pattern [9,47]. Image added to reference library for inspection.\n",
      "Possible 5-fold symmetry found in pattern [10,35]. Image added to reference library for inspection.\n",
      "Possible 5-fold symmetry found in pattern [10,36]. Image added to reference library for inspection.\n",
      "Possible 5-fold symmetry found in pattern [10,37]. Image added to reference library for inspection.\n",
      "Possible 5-fold symmetry found in pattern [10,38]. Image added to reference library for inspection.\n",
      "Possible 5-fold symmetry found in pattern [10,39]. Image added to reference library for inspection.\n",
      "Possible 5-fold symmetry found in pattern [10,40]. Image added to reference library for inspection.\n",
      "Possible 5-fold symmetry found in pattern [10,41]. Image added to reference library for inspection.\n",
      "Possible 5-fold symmetry found in pattern [10,42]. Image added to reference library for inspection.\n",
      "Possible 5-fold symmetry found in pattern [10,43]. Image added to reference library for inspection.\n",
      "Possible 5-fold symmetry found in pattern [10,44]. Image added to reference library for inspection.\n",
      "Possible 5-fold symmetry found in pattern [10,45]. Image added to reference library for inspection.\n",
      "Possible 5-fold symmetry found in pattern [10,46]. Image added to reference library for inspection.\n",
      "Possible 5-fold symmetry found in pattern [11,39]. Image added to reference library for inspection.\n",
      "Possible 5-fold symmetry found in pattern [31,8]. Image added to reference library for inspection.\n",
      "Possible 5-fold symmetry found in pattern [31,9]. Image added to reference library for inspection.\n",
      "Possible 5-fold symmetry found in pattern [32,7]. Image added to reference library for inspection.\n"
     ]
    }
   ],
   "source": [
    "reference_lib, tuple_storage = ffd.find_nfold_symmetries(summed, rot_symm_order)"
   ]
  },
  {
   "attachments": {},
   "cell_type": "markdown",
   "metadata": {},
   "source": [
    "The program found a bunch of $5$-fold symmetries - none of which are real. To deal with incorrectly assigned $n$-fold symmetries due to overlaps because of noise/big discs, we can discriminate against patterns where the regions of overlap do not exceed some threshold surface area:"
   ]
  },
  {
   "cell_type": "code",
   "execution_count": 40,
   "metadata": {},
   "outputs": [
    {
     "name": "stdout",
     "output_type": "stream",
     "text": [
      "The desired symmetry was found in 163 diffraction patterns. Of these, 163 were regarded as erroneously assigned.\n"
     ]
    }
   ],
   "source": [
    "threshold_area = 50\n",
    "nfold_coords_filtered = ffd.filter_spurious_overlaps(summed, tuple_storage, threshold_area)"
   ]
  }
 ],
 "metadata": {
  "kernelspec": {
   "display_name": "pyxem",
   "language": "python",
   "name": "python3"
  },
  "language_info": {
   "codemirror_mode": {
    "name": "ipython",
    "version": 3
   },
   "file_extension": ".py",
   "mimetype": "text/x-python",
   "name": "python",
   "nbconvert_exporter": "python",
   "pygments_lexer": "ipython3",
   "version": "3.9.12"
  },
  "orig_nbformat": 4,
  "vscode": {
   "interpreter": {
    "hash": "ca8e3355e4bc8b9c7d28a57ae564f6fb6a0ea2b6341daeeb5edbc82201a2a6ff"
   }
  }
 },
 "nbformat": 4,
 "nbformat_minor": 2
}
